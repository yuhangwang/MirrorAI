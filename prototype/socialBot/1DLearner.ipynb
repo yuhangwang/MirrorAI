{
 "cells": [
  {
   "cell_type": "markdown",
   "metadata": {},
   "source": [
    "# Social Bot\n",
    "**Goal**: correctly identify whether a response is socially acceptable"
   ]
  },
  {
   "cell_type": "code",
   "execution_count": 542,
   "metadata": {
    "collapsed": true
   },
   "outputs": [],
   "source": [
    "import tensorflow as tf\n",
    "import numpy\n",
    "from numpy import ndarray"
   ]
  },
  {
   "cell_type": "markdown",
   "metadata": {},
   "source": [
    "## Define constants"
   ]
  },
  {
   "cell_type": "code",
   "execution_count": 543,
   "metadata": {
    "collapsed": true
   },
   "outputs": [],
   "source": [
    "sample_count = {\n",
    "    \"training\": 8000,\n",
    "    \"test\": 1300,\n",
    "    \"validation\": 10000\n",
    "    }\n",
    "\n",
    "category_min = 1\n",
    "category_max = 160\n",
    "\n",
    "label_type_count = category_max - category_min + 1\n",
    "\n",
    "image_height = 1\n",
    "image_width = 2\n",
    "\n",
    "flat_size = image_height * image_width\n",
    "\n",
    "label_type_count = 2 # number of distinct labels (social or not)\n",
    "\n",
    "learning_rate = 0.5"
   ]
  },
  {
   "cell_type": "markdown",
   "metadata": {},
   "source": [
    "## Auxiliary functions"
   ]
  },
  {
   "cell_type": "markdown",
   "metadata": {},
   "source": [
    "### Show result"
   ]
  },
  {
   "cell_type": "code",
   "execution_count": 544,
   "metadata": {
    "collapsed": true
   },
   "outputs": [],
   "source": [
    "def show_result(x):\n",
    "    \"\"\"Print the result\"\"\"\n",
    "    print(\"{:.0f}%\".format(x * 100))"
   ]
  },
  {
   "cell_type": "code",
   "execution_count": 545,
   "metadata": {
    "collapsed": false
   },
   "outputs": [
    {
     "data": {
      "text/plain": [
       "array([ 0.36787944,  0.13533528,  0.04978707])"
      ]
     },
     "execution_count": 545,
     "metadata": {},
     "output_type": "execute_result"
    }
   ],
   "source": [
    "numpy.exp([-1, -2, -3])"
   ]
  },
  {
   "cell_type": "markdown",
   "metadata": {},
   "source": [
    "### Automaticaly generate data sets"
   ]
  },
  {
   "cell_type": "code",
   "execution_count": 546,
   "metadata": {
    "collapsed": false
   },
   "outputs": [],
   "source": [
    "def social_rule(xs: ndarray, threshold=0.2):\n",
    "    \"\"\"\n",
    "    The rule for juding whether a response is socially polite\n",
    "    Args:\n",
    "        xs (ndarray): inputs and responses (2D array)\n",
    "        threshold (float): threshold above which it is considerred socially acceptible\n",
    "    \"\"\"\n",
    "    def one_hot(x):\n",
    "        if x:\n",
    "            return [1, 0]\n",
    "        else:\n",
    "            return [0, 1]\n",
    "    return one_hot(numpy.exp(-numpy.absolute(numpy.diff(xs))) > threshold)\n"
   ]
  },
  {
   "cell_type": "code",
   "execution_count": 547,
   "metadata": {
    "collapsed": true
   },
   "outputs": [],
   "source": [
    "def social_samples(n: int, low: int, high: int):\n",
    "    \"\"\"\n",
    "    Args:\n",
    "        n (int): number of data points\n",
    "        low (int): lower bound\n",
    "        high (int): upper bound\n",
    "    \"\"\"\n",
    "    def aux(_):\n",
    "        data = numpy.random.randint(low, high=high, size=2)\n",
    "        return numpy.concatenate((data, social_rule(data)))\n",
    "    data = numpy.vstack(map(aux, range(n)))\n",
    "    print(data)\n",
    "    return {\n",
    "        \"data\": data[:, 0:2],\n",
    "        \"labels\": data[:, 2:]\n",
    "    }\n"
   ]
  },
  {
   "cell_type": "code",
   "execution_count": 548,
   "metadata": {
    "collapsed": false
   },
   "outputs": [
    {
     "name": "stdout",
     "output_type": "stream",
     "text": [
      "[[3 1 0 1]\n",
      " [1 2 1 0]\n",
      " [3 4 1 0]\n",
      " [2 2 1 0]\n",
      " [2 1 1 0]\n",
      " [1 3 0 1]\n",
      " [3 2 1 0]\n",
      " [4 3 1 0]\n",
      " [3 4 1 0]\n",
      " [1 4 0 1]]\n"
     ]
    },
    {
     "data": {
      "text/plain": [
       "{'data': array([[3, 1],\n",
       "        [1, 2],\n",
       "        [3, 4],\n",
       "        [2, 2],\n",
       "        [2, 1],\n",
       "        [1, 3],\n",
       "        [3, 2],\n",
       "        [4, 3],\n",
       "        [3, 4],\n",
       "        [1, 4]]), 'labels': array([[0, 1],\n",
       "        [1, 0],\n",
       "        [1, 0],\n",
       "        [1, 0],\n",
       "        [1, 0],\n",
       "        [0, 1],\n",
       "        [1, 0],\n",
       "        [1, 0],\n",
       "        [1, 0],\n",
       "        [0, 1]])}"
      ]
     },
     "execution_count": 548,
     "metadata": {},
     "output_type": "execute_result"
    }
   ],
   "source": [
    "social_samples(10, 1, 5)"
   ]
  },
  {
   "cell_type": "markdown",
   "metadata": {},
   "source": [
    "# Reflection-type testing data"
   ]
  },
  {
   "cell_type": "code",
   "execution_count": 549,
   "metadata": {
    "collapsed": false
   },
   "outputs": [
    {
     "name": "stdout",
     "output_type": "stream",
     "text": [
      "[[ 61  58   0   1]\n",
      " [ 41 154   0   1]\n",
      " [118  83   0   1]\n",
      " ..., \n",
      " [ 46  94   0   1]\n",
      " [ 59  92   0   1]\n",
      " [118 129   0   1]]\n",
      "[[129 125   0   1]\n",
      " [157  39   0   1]\n",
      " [ 87  20   0   1]\n",
      " ..., \n",
      " [154  30   0   1]\n",
      " [ 12 123   0   1]\n",
      " [ 43 127   0   1]]\n",
      "[[ 20  31   0   1]\n",
      " [ 87  32   0   1]\n",
      " [113 145   0   1]\n",
      " ..., \n",
      " [  5 139   0   1]\n",
      " [ 50  27   0   1]\n",
      " [159  45   0   1]]\n"
     ]
    }
   ],
   "source": [
    "low, high = category_min, category_max\n",
    "dataset = {\n",
    "    \"training\": social_samples(sample_count['training'], low, high),\n",
    "    \"test\": social_samples(sample_count['test'], low, high),\n",
    "    \"validation\": social_samples(sample_count['validation'], low, high)\n",
    "}"
   ]
  },
  {
   "cell_type": "code",
   "execution_count": 550,
   "metadata": {
    "collapsed": false
   },
   "outputs": [
    {
     "data": {
      "text/plain": [
       "(8000, 2)"
      ]
     },
     "execution_count": 550,
     "metadata": {},
     "output_type": "execute_result"
    }
   ],
   "source": [
    "dataset['training']['data'].shape"
   ]
  },
  {
   "cell_type": "code",
   "execution_count": 551,
   "metadata": {
    "collapsed": false
   },
   "outputs": [
    {
     "data": {
      "text/plain": [
       "array([0, 1])"
      ]
     },
     "execution_count": 551,
     "metadata": {},
     "output_type": "execute_result"
    }
   ],
   "source": [
    "dataset['test']['labels'][1]"
   ]
  },
  {
   "cell_type": "markdown",
   "metadata": {
    "collapsed": false
   },
   "source": [
    "# Memory allocation"
   ]
  },
  {
   "cell_type": "code",
   "execution_count": 552,
   "metadata": {
    "collapsed": false
   },
   "outputs": [],
   "source": [
    "x = tf.placeholder(tf.float32, [None, flat_size])"
   ]
  },
  {
   "cell_type": "code",
   "execution_count": 553,
   "metadata": {
    "collapsed": false
   },
   "outputs": [],
   "source": [
    "W = tf.Variable(tf.zeros([flat_size, label_type_count]))"
   ]
  },
  {
   "cell_type": "code",
   "execution_count": 554,
   "metadata": {
    "collapsed": true
   },
   "outputs": [],
   "source": [
    "b = tf.Variable(tf.zeros([label_type_count]))"
   ]
  },
  {
   "cell_type": "code",
   "execution_count": 555,
   "metadata": {
    "collapsed": false
   },
   "outputs": [],
   "source": [
    "y = tf.nn.softmax(tf.matmul(x, W) + b)"
   ]
  },
  {
   "cell_type": "code",
   "execution_count": 556,
   "metadata": {
    "collapsed": false
   },
   "outputs": [],
   "source": [
    "y_ = tf.placeholder(tf.float32, [None, label_type_count])"
   ]
  },
  {
   "cell_type": "code",
   "execution_count": 557,
   "metadata": {
    "collapsed": true
   },
   "outputs": [],
   "source": [
    "cross_entropy = tf.reduce_mean(\n",
    "    tf.nn.softmax_cross_entropy_with_logits(labels=y_, logits=y)\n",
    ")"
   ]
  },
  {
   "cell_type": "code",
   "execution_count": 558,
   "metadata": {
    "collapsed": true
   },
   "outputs": [],
   "source": [
    "train_step = tf.train.GradientDescentOptimizer(learning_rate).minimize(cross_entropy)"
   ]
  },
  {
   "cell_type": "code",
   "execution_count": 559,
   "metadata": {
    "collapsed": true
   },
   "outputs": [],
   "source": [
    "# create a session\n",
    "session = tf.InteractiveSession()"
   ]
  },
  {
   "cell_type": "code",
   "execution_count": 560,
   "metadata": {
    "collapsed": true
   },
   "outputs": [],
   "source": [
    "tf.global_variables_initializer().run()"
   ]
  },
  {
   "cell_type": "markdown",
   "metadata": {},
   "source": [
    "# I. Regular Neural Net"
   ]
  },
  {
   "cell_type": "markdown",
   "metadata": {},
   "source": [
    "## Training\n",
    "\n"
   ]
  },
  {
   "cell_type": "code",
   "execution_count": 561,
   "metadata": {
    "collapsed": false
   },
   "outputs": [],
   "source": [
    "session.run(train_step, feed_dict={x: dataset['training']['data'], y_: dataset['training']['labels']})"
   ]
  },
  {
   "cell_type": "code",
   "execution_count": 562,
   "metadata": {
    "collapsed": true
   },
   "outputs": [],
   "source": [
    "correct_prediction = tf.equal(tf.argmax(y, 1), tf.argmax(y_, 1))"
   ]
  },
  {
   "cell_type": "code",
   "execution_count": 563,
   "metadata": {
    "collapsed": true
   },
   "outputs": [],
   "source": [
    "accuracy = tf.reduce_mean(tf.cast(correct_prediction, tf.float32))"
   ]
  },
  {
   "cell_type": "markdown",
   "metadata": {},
   "source": [
    "## Test"
   ]
  },
  {
   "cell_type": "code",
   "execution_count": 564,
   "metadata": {
    "collapsed": false
   },
   "outputs": [],
   "source": [
    "test_result = session.run(accuracy, feed_dict={x: dataset['test']['data'], y_: dataset['test']['labels']})"
   ]
  },
  {
   "cell_type": "code",
   "execution_count": 565,
   "metadata": {
    "collapsed": false
   },
   "outputs": [
    {
     "name": "stdout",
     "output_type": "stream",
     "text": [
      "98%\n"
     ]
    }
   ],
   "source": [
    "show_result(test_result)"
   ]
  },
  {
   "cell_type": "markdown",
   "metadata": {},
   "source": [
    "## Validation"
   ]
  },
  {
   "cell_type": "code",
   "execution_count": 566,
   "metadata": {
    "collapsed": true
   },
   "outputs": [],
   "source": [
    "exam_result = session.run(accuracy, feed_dict={x: dataset['validation']['data'], y_: dataset['validation']['labels']})"
   ]
  },
  {
   "cell_type": "code",
   "execution_count": 567,
   "metadata": {
    "collapsed": false
   },
   "outputs": [
    {
     "name": "stdout",
     "output_type": "stream",
     "text": [
      "98%\n"
     ]
    }
   ],
   "source": [
    "show_result(exam_result)"
   ]
  },
  {
   "cell_type": "code",
   "execution_count": null,
   "metadata": {
    "collapsed": true
   },
   "outputs": [],
   "source": []
  },
  {
   "cell_type": "code",
   "execution_count": null,
   "metadata": {
    "collapsed": true
   },
   "outputs": [],
   "source": []
  }
 ],
 "metadata": {
  "kernelspec": {
   "display_name": "Python 3",
   "language": "python",
   "name": "python3"
  },
  "language_info": {
   "codemirror_mode": {
    "name": "ipython",
    "version": 3
   },
   "file_extension": ".py",
   "mimetype": "text/x-python",
   "name": "python",
   "nbconvert_exporter": "python",
   "pygments_lexer": "ipython3",
   "version": "3.5.2"
  }
 },
 "nbformat": 4,
 "nbformat_minor": 0
}
